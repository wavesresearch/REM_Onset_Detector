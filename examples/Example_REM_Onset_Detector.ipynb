{
 "cells": [
  {
   "cell_type": "markdown",
   "metadata": {},
   "source": [
    "## Example of how to use the REM onset detector on PSG/EEG Data\n",
    "\n",
    "##### The code generates a set of events that indicates the onset of the eye movement detected in the input data.\n",
    "\n",
    "##### The input data must contain one left horizontal EOG channel, one right horizontal EOG channel, and one chin EMG channel. The name of these channels + the input data are the parameters of the code. \n",
    "\n",
    "###### Example written by Andres Soler, Department of Engineering Cybernetics, NTNU.\n"
   ]
  },
  {
   "cell_type": "code",
   "execution_count": null,
   "metadata": {
    "tags": []
   },
   "outputs": [],
   "source": [
    "from REM_Detector import*\n",
    "%matplotlib qt"
   ]
  },
  {
   "cell_type": "code",
   "execution_count": null,
   "metadata": {},
   "outputs": [],
   "source": [
    "########### File and Folder Names\n",
    "file_name = 'example_data'  # Adjust according to the file name\n",
    "file_format = '.edf' # Adjust according to the file format\n",
    "folder_name = 'PSG-Example_Data'  # Adjust according to the file folder"
   ]
  },
  {
   "cell_type": "code",
   "execution_count": null,
   "metadata": {},
   "outputs": [],
   "source": [
    "########### Read File\n",
    "data_path = os.path.expanduser(folder_name)\n",
    "raw_fname = os.path.join(data_path, file_name)\n",
    "raw = mne.io.read_raw_edf(raw_fname + file_format, preload=False)"
   ]
  },
  {
   "cell_type": "code",
   "execution_count": null,
   "metadata": {},
   "outputs": [],
   "source": [
    "########### Channels to analize\n",
    "EOG_l_channel_name = 'LEOGH-M2'   # Put here the name of the left horizontal EOG channel\n",
    "EOG_r_channel_name = 'REOGH-M1'  # Put here the name of the right horizontal EOG channel\n",
    "EMG_c_channel_name = 'REMG' # Put here the name of the EMG channel\n",
    "EOGs_channels = [EOG_l_channel_name, EOG_r_channel_name]\n",
    "\n",
    "########### Create REM Detector Object\n",
    "Detector = REM_Detector(raw, file_name, folder_name, EOGs_channels, EMG_c_channel_name, sample_rate=250)"
   ]
  },
  {
   "cell_type": "code",
   "execution_count": null,
   "metadata": {},
   "outputs": [],
   "source": [
    "########### Process the data and obtain the EMs \n",
    "Detector.Detecting_EMs() # Awake and REM EMs\n",
    "Detector.PSD_Checking_EMs() # Remove the EMs in awake based on PSD\n",
    "Detector.Saving_EMs() # Save the detected EMs"
   ]
  },
  {
   "cell_type": "code",
   "execution_count": null,
   "metadata": {},
   "outputs": [],
   "source": [
    "########### Reading and Visualize\n",
    "Detector.Reading_EMs()\n",
    "Detector.Plotting_EMs()"
   ]
  },
  {
   "cell_type": "code",
   "execution_count": null,
   "metadata": {},
   "outputs": [],
   "source": [
    "########### Reading and Export to CSV\n",
    "Detector.Reading_EMs()\n",
    "Detector.Export_EMs_csv()"
   ]
  },
  {
   "cell_type": "code",
   "execution_count": null,
   "metadata": {},
   "outputs": [],
   "source": [
    "########### Reading and Export to edf\n",
    "Detector.Reading_EMs()\n",
    "Detector.Export_EMs_edf()"
   ]
  }
 ],
 "metadata": {
  "kernelspec": {
   "display_name": "Python 3",
   "language": "python",
   "name": "python3"
  },
  "language_info": {
   "codemirror_mode": {
    "name": "ipython",
    "version": 3
   },
   "file_extension": ".py",
   "mimetype": "text/x-python",
   "name": "python",
   "nbconvert_exporter": "python",
   "pygments_lexer": "ipython3",
   "version": "3.7.7"
  }
 },
 "nbformat": 4,
 "nbformat_minor": 4
}
